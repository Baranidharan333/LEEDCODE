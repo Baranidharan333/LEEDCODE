{
 "cells": [
  {
   "cell_type": "markdown",
   "id": "a1fc560a-1c03-4e9f-bbea-112967073277",
   "metadata": {},
   "source": [
    "# Day 1"
   ]
  },
  {
   "cell_type": "code",
   "execution_count": null,
   "id": "8d7e1d62-4a36-4092-a8ff-214b4c2d1db1",
   "metadata": {},
   "outputs": [],
   "source": [
    "from typing import List\n",
    "\n",
    "class Solution:\n",
    "    def twoSum(self, nums: List[int], target: int) -> List[int]:\n",
    "        length = len(nums)\n",
    "        for i in range(length - 1):\n",
    "            for j in range(i + 1, length):\n",
    "                if nums[i] + nums[j] == target:\n",
    "                    return [i, j]\n",
    "        return []"
   ]
  },
  {
   "cell_type": "markdown",
   "id": "4ccb1311-958f-4570-ae5b-0fefe0c8d4e6",
   "metadata": {},
   "source": [
    "# Day 2"
   ]
  },
  {
   "cell_type": "code",
   "execution_count": null,
   "id": "c955705b-3604-438c-87e4-7f831b4ddd83",
   "metadata": {},
   "outputs": [],
   "source": [
    "class Solution:\n",
    "    def count(self,l) -> int :\n",
    "        if l==\"I\":\n",
    "            return 1\n",
    "        elif l==\"V\":\n",
    "            return 5\n",
    "        elif l==\"X\":\n",
    "            return 10\n",
    "        elif l==\"L\":\n",
    "            return 50\n",
    "        elif l==\"C\":\n",
    "            return 100\n",
    "        elif l==\"D\":\n",
    "            return 500\n",
    "        elif l==\"M\":\n",
    "            return 1000\n",
    "    def romanToInt(self, s: str) -> int:\n",
    "        sum=self.count(s[0])\n",
    "        for i in range(1,len(s)):\n",
    "            tmp= self.count(s[i-1])\n",
    "            current = self.count(s[i])\n",
    "            if(tmp>=current):\n",
    "                sum+=current\n",
    "            elif(tmp < current):\n",
    "                sum-=tmp\n",
    "                sum += current-tmp\n",
    "        return sum "
   ]
  },
  {
   "cell_type": "markdown",
   "id": "20ebd6f2-8f80-4add-b29b-7daba4b82e19",
   "metadata": {},
   "source": [
    "### Day 3"
   ]
  },
  {
   "cell_type": "code",
   "execution_count": null,
   "id": "4470ef79-21a6-4b33-9482-f78bd62ff406",
   "metadata": {},
   "outputs": [],
   "source": [
    "class Solution:\n",
    "    def isPalindrome(self, x: int) -> bool:\n",
    "        if(x<0):\n",
    "            return False\n",
    "        rev=0\n",
    "        temp=x\n",
    "        while(temp!=0):\n",
    "            rem = temp%10\n",
    "            rev = rev*10+rem\n",
    "            temp//=10\n",
    "        return (rev==x)\n",
    "        "
   ]
  },
  {
   "cell_type": "markdown",
   "id": "c0901858-0d33-4210-899c-53ab96b88433",
   "metadata": {},
   "source": [
    "# Day 4"
   ]
  },
  {
   "cell_type": "code",
   "execution_count": null,
   "id": "b08a1900-71f4-4cd5-9113-77ac689d94f4",
   "metadata": {},
   "outputs": [],
   "source": [
    "from typing import List\n",
    "class Solution:\n",
    "    def longestCommonPrefix(self, strs: List[str]) -> str:\n",
    "        one = strs[0]\n",
    "        two = strs[1]\n",
    "        print(one,two)\n",
    "        ind =0\n",
    "        while(one[ind]==two[ind]):\n",
    "            ind+=1\n",
    "            print(ind)\n"
   ]
  },
  {
   "cell_type": "code",
   "execution_count": 24,
   "id": "0e39699a-c3c4-4dcd-9940-ad8f27167d71",
   "metadata": {},
   "outputs": [],
   "source": [
    "from typing import List\n",
    "class Solution:\n",
    "    def check_in(self,s,str_):\n",
    "        return str_.startswith(s)\n",
    "    def change_(self,s,strs):\n",
    "        for str_ in strs:\n",
    "            if not self.check_in(s,str_):\n",
    "                return False\n",
    "        return True\n",
    "    def longestCommonPrefix(self, strs: List[str]) -> str:\n",
    "        if not strs:\n",
    "            return \"\"\n",
    "        ind =1\n",
    "        while(ind<=len(strs[0])):\n",
    "            s=strs[0][0:ind]\n",
    "            if self.change_(s,strs):\n",
    "                ind+=1\n",
    "            else:\n",
    "                return strs[0][0:ind-1]\n",
    "        return strs[0]"
   ]
  },
  {
   "cell_type": "code",
   "execution_count": null,
   "id": "c08acd82-3be4-4463-a7cb-16f7b6a3e013",
   "metadata": {},
   "outputs": [],
   "source": []
  }
 ],
 "metadata": {
  "kernelspec": {
   "display_name": "Python 3 (ipykernel)",
   "language": "python",
   "name": "python3"
  },
  "language_info": {
   "codemirror_mode": {
    "name": "ipython",
    "version": 3
   },
   "file_extension": ".py",
   "mimetype": "text/x-python",
   "name": "python",
   "nbconvert_exporter": "python",
   "pygments_lexer": "ipython3",
   "version": "3.12.6"
  }
 },
 "nbformat": 4,
 "nbformat_minor": 5
}
