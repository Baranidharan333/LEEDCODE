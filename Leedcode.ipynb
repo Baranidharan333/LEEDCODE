{
 "cells": [
  {
   "cell_type": "markdown",
   "id": "a1fc560a-1c03-4e9f-bbea-112967073277",
   "metadata": {},
   "source": [
    "# Day 1"
   ]
  },
  {
   "cell_type": "code",
   "execution_count": 1,
   "id": "8d7e1d62-4a36-4092-a8ff-214b4c2d1db1",
   "metadata": {},
   "outputs": [],
   "source": [
    "from typing import List\n",
    "\n",
    "class Solution:\n",
    "    def twoSum(self, nums: List[int], target: int) -> List[int]:\n",
    "        length = len(nums)\n",
    "        for i in range(length - 1):\n",
    "            for j in range(i + 1, length):\n",
    "                if nums[i] + nums[j] == target:\n",
    "                    return [i, j]\n",
    "        return []"
   ]
  },
  {
   "cell_type": "markdown",
   "id": "4ccb1311-958f-4570-ae5b-0fefe0c8d4e6",
   "metadata": {},
   "source": [
    "# Day 2"
   ]
  },
  {
   "cell_type": "code",
   "execution_count": 2,
   "id": "c955705b-3604-438c-87e4-7f831b4ddd83",
   "metadata": {},
   "outputs": [],
   "source": [
    "class Solution:\n",
    "    def count(self,l) -> int :\n",
    "        if l==\"I\":\n",
    "            return 1\n",
    "        elif l==\"V\":\n",
    "            return 5\n",
    "        elif l==\"X\":\n",
    "            return 10\n",
    "        elif l==\"L\":\n",
    "            return 50\n",
    "        elif l==\"C\":\n",
    "            return 100\n",
    "        elif l==\"D\":\n",
    "            return 500\n",
    "        elif l==\"M\":\n",
    "            return 1000\n",
    "    def romanToInt(self, s: str) -> int:\n",
    "        sum=self.count(s[0])\n",
    "        for i in range(1,len(s)):\n",
    "            tmp= self.count(s[i-1])\n",
    "            current = self.count(s[i])\n",
    "            if(tmp>=current):\n",
    "                sum+=current\n",
    "            elif(tmp < current):\n",
    "                sum-=tmp\n",
    "                sum += current-tmp\n",
    "        return sum "
   ]
  },
  {
   "cell_type": "markdown",
   "id": "20ebd6f2-8f80-4add-b29b-7daba4b82e19",
   "metadata": {},
   "source": [
    "### Day 3"
   ]
  },
  {
   "cell_type": "code",
   "execution_count": 10,
   "id": "4470ef79-21a6-4b33-9482-f78bd62ff406",
   "metadata": {},
   "outputs": [],
   "source": [
    "class Solution:\n",
    "    def isPalindrome(self, x: int) -> bool:\n",
    "        if(x<0):\n",
    "            return False\n",
    "        rev=0\n",
    "        temp=x\n",
    "        while(temp!=0):\n",
    "            rem = temp%10\n",
    "            rev = rev*10+rem\n",
    "            temp//=10\n",
    "        return (rev==x)\n",
    "        "
   ]
  },
  {
   "cell_type": "code",
   "execution_count": null,
   "id": "7ffd2074-f6b5-45db-bff0-17efa03751b1",
   "metadata": {},
   "outputs": [],
   "source": []
  }
 ],
 "metadata": {
  "kernelspec": {
   "display_name": "Python 3 (ipykernel)",
   "language": "python",
   "name": "python3"
  },
  "language_info": {
   "codemirror_mode": {
    "name": "ipython",
    "version": 3
   },
   "file_extension": ".py",
   "mimetype": "text/x-python",
   "name": "python",
   "nbconvert_exporter": "python",
   "pygments_lexer": "ipython3",
   "version": "3.12.6"
  }
 },
 "nbformat": 4,
 "nbformat_minor": 5
}
